{
 "cells": [
  {
   "cell_type": "markdown",
   "id": "d5c406c91e0b017d",
   "metadata": {
    "collapsed": false
   },
   "source": [
    "## Footprint_mongoengine"
   ]
  },
  {
   "cell_type": "code",
   "execution_count": 2,
   "id": "initial_id",
   "metadata": {
    "collapsed": true
   },
   "outputs": [
    {
     "name": "stderr",
     "output_type": "stream",
     "text": [
      "/var/folders/28/21swhpms51l474n_ckq4ttcw90877k/T/ipykernel_80263/1495823555.py:4: DeprecationWarning: \n",
      "Pyarrow will become a required dependency of pandas in the next major release of pandas (pandas 3.0),\n",
      "(to allow more performant data types, such as the Arrow string type, and better interoperability with other libraries)\n",
      "but was not found to be installed on your system.\n",
      "If this would cause problems for you,\n",
      "please provide us feedback at https://github.com/pandas-dev/pandas/issues/54466\n",
      "        \n",
      "  import pandas as pd\n"
     ]
    },
    {
     "ename": "InvalidURI",
     "evalue": "The empty string is not valid username.",
     "output_type": "error",
     "traceback": [
      "\u001b[0;31m---------------------------------------------------------------------------\u001b[0m",
      "\u001b[0;31mInvalidURI\u001b[0m                                Traceback (most recent call last)",
      "Cell \u001b[0;32mIn[2], line 12\u001b[0m\n\u001b[1;32m      9\u001b[0m current_time \u001b[38;5;241m=\u001b[39m datetime\u001b[38;5;241m.\u001b[39mdatetime\u001b[38;5;241m.\u001b[39mnow()\n\u001b[1;32m     10\u001b[0m calc_time \u001b[38;5;241m=\u001b[39m datetime\u001b[38;5;241m.\u001b[39mdate(current_time\u001b[38;5;241m.\u001b[39myear \u001b[38;5;241m-\u001b[39m \u001b[38;5;241m3\u001b[39m, \u001b[38;5;241m9\u001b[39m, \u001b[38;5;241m1\u001b[39m)\n\u001b[0;32m---> 12\u001b[0m \u001b[43mconnect\u001b[49m\u001b[43m(\u001b[49m\u001b[38;5;124;43m'\u001b[39;49m\u001b[38;5;124;43m'\u001b[39;49m\u001b[43m,\u001b[49m\u001b[43m \u001b[49m\u001b[38;5;124;43m'\u001b[39;49m\u001b[38;5;124;43m'\u001b[39;49m\u001b[43m,\u001b[49m\u001b[43m \u001b[49m\u001b[38;5;124;43m'\u001b[39;49m\u001b[38;5;124;43m45.93.203.6\u001b[39;49m\u001b[38;5;124;43m'\u001b[39;49m\u001b[43m,\u001b[49m\u001b[43m \u001b[49m\u001b[38;5;241;43m27017\u001b[39;49m\u001b[43m,\u001b[49m\u001b[43m \u001b[49m\u001b[38;5;124;43m'\u001b[39;49m\u001b[38;5;124;43mapp\u001b[39;49m\u001b[38;5;124;43m'\u001b[39;49m\u001b[43m)\u001b[49m\n\u001b[1;32m     14\u001b[0m channel \u001b[38;5;241m=\u001b[39m \u001b[38;5;124m'\u001b[39m\u001b[38;5;124mТехническая поддержка МИЭМ\u001b[39m\u001b[38;5;124m'\u001b[39m\n\u001b[1;32m     16\u001b[0m ch_id \u001b[38;5;241m=\u001b[39m zulip\u001b[38;5;241m.\u001b[39mStream\u001b[38;5;241m.\u001b[39mobjects(name\u001b[38;5;241m=\u001b[39mchannel)[\u001b[38;5;241m0\u001b[39m]\n",
      "File \u001b[0;32m~/Library/Python/3.9/lib/python/site-packages/footprint_mongoengine/__init__.py:5\u001b[0m, in \u001b[0;36mconnect\u001b[0;34m(username, password, ip, port, db)\u001b[0m\n\u001b[1;32m      4\u001b[0m \u001b[38;5;28;01mdef\u001b[39;00m \u001b[38;5;21mconnect\u001b[39m(username: \u001b[38;5;28mstr\u001b[39m, password: \u001b[38;5;28mstr\u001b[39m, ip: \u001b[38;5;28mstr\u001b[39m, port: \u001b[38;5;28mint\u001b[39m, db: \u001b[38;5;28mstr\u001b[39m):\n\u001b[0;32m----> 5\u001b[0m     \u001b[43mmongoengine\u001b[49m\u001b[38;5;241;43m.\u001b[39;49m\u001b[43mconnect\u001b[49m\u001b[43m(\u001b[49m\u001b[43mhost\u001b[49m\u001b[38;5;241;43m=\u001b[39;49m\u001b[38;5;124;43mf\u001b[39;49m\u001b[38;5;124;43m\"\u001b[39;49m\u001b[38;5;124;43mmongodb://\u001b[39;49m\u001b[38;5;132;43;01m{\u001b[39;49;00m\u001b[43musername\u001b[49m\u001b[38;5;132;43;01m}\u001b[39;49;00m\u001b[38;5;124;43m:\u001b[39;49m\u001b[38;5;132;43;01m{\u001b[39;49;00m\u001b[43mpassword\u001b[49m\u001b[38;5;132;43;01m}\u001b[39;49;00m\u001b[38;5;124;43m@\u001b[39;49m\u001b[38;5;132;43;01m{\u001b[39;49;00m\u001b[43mip\u001b[49m\u001b[38;5;132;43;01m}\u001b[39;49;00m\u001b[38;5;124;43m:\u001b[39;49m\u001b[38;5;132;43;01m{\u001b[39;49;00m\u001b[43mport\u001b[49m\u001b[38;5;132;43;01m}\u001b[39;49;00m\u001b[38;5;124;43m/\u001b[39;49m\u001b[38;5;132;43;01m{\u001b[39;49;00m\u001b[43mdb\u001b[49m\u001b[38;5;132;43;01m}\u001b[39;49;00m\u001b[38;5;124;43m?authSource=admin\u001b[39;49m\u001b[38;5;124;43m\"\u001b[39;49m\u001b[43m)\u001b[49m\n",
      "File \u001b[0;32m~/Library/Python/3.9/lib/python/site-packages/mongoengine/connection.py:436\u001b[0m, in \u001b[0;36mconnect\u001b[0;34m(db, alias, **kwargs)\u001b[0m\n\u001b[1;32m    434\u001b[0m         \u001b[38;5;28;01mraise\u001b[39;00m ConnectionFailure(err_msg)\n\u001b[1;32m    435\u001b[0m \u001b[38;5;28;01melse\u001b[39;00m:\n\u001b[0;32m--> 436\u001b[0m     \u001b[43mregister_connection\u001b[49m\u001b[43m(\u001b[49m\u001b[43malias\u001b[49m\u001b[43m,\u001b[49m\u001b[43m \u001b[49m\u001b[43mdb\u001b[49m\u001b[43m,\u001b[49m\u001b[43m \u001b[49m\u001b[38;5;241;43m*\u001b[39;49m\u001b[38;5;241;43m*\u001b[39;49m\u001b[43mkwargs\u001b[49m\u001b[43m)\u001b[49m\n\u001b[1;32m    438\u001b[0m \u001b[38;5;28;01mreturn\u001b[39;00m get_connection(alias)\n",
      "File \u001b[0;32m~/Library/Python/3.9/lib/python/site-packages/mongoengine/connection.py:224\u001b[0m, in \u001b[0;36mregister_connection\u001b[0;34m(alias, db, name, host, port, read_preference, username, password, authentication_source, authentication_mechanism, authmechanismproperties, **kwargs)\u001b[0m\n\u001b[1;32m    189\u001b[0m \u001b[38;5;28;01mdef\u001b[39;00m \u001b[38;5;21mregister_connection\u001b[39m(\n\u001b[1;32m    190\u001b[0m     alias,\n\u001b[1;32m    191\u001b[0m     db\u001b[38;5;241m=\u001b[39m\u001b[38;5;28;01mNone\u001b[39;00m,\n\u001b[0;32m   (...)\u001b[0m\n\u001b[1;32m    201\u001b[0m     \u001b[38;5;241m*\u001b[39m\u001b[38;5;241m*\u001b[39mkwargs,\n\u001b[1;32m    202\u001b[0m ):\n\u001b[1;32m    203\u001b[0m \u001b[38;5;250m    \u001b[39m\u001b[38;5;124;03m\"\"\"Register the connection settings.\u001b[39;00m\n\u001b[1;32m    204\u001b[0m \n\u001b[1;32m    205\u001b[0m \u001b[38;5;124;03m    :param alias: the name that will be used to refer to this connection throughout MongoEngine\u001b[39;00m\n\u001b[0;32m   (...)\u001b[0m\n\u001b[1;32m    222\u001b[0m \u001b[38;5;124;03m        for pymongo's `MongoClient` for a full list.\u001b[39;00m\n\u001b[1;32m    223\u001b[0m \u001b[38;5;124;03m    \"\"\"\u001b[39;00m\n\u001b[0;32m--> 224\u001b[0m     conn_settings \u001b[38;5;241m=\u001b[39m \u001b[43m_get_connection_settings\u001b[49m\u001b[43m(\u001b[49m\n\u001b[1;32m    225\u001b[0m \u001b[43m        \u001b[49m\u001b[43mdb\u001b[49m\u001b[38;5;241;43m=\u001b[39;49m\u001b[43mdb\u001b[49m\u001b[43m,\u001b[49m\n\u001b[1;32m    226\u001b[0m \u001b[43m        \u001b[49m\u001b[43mname\u001b[49m\u001b[38;5;241;43m=\u001b[39;49m\u001b[43mname\u001b[49m\u001b[43m,\u001b[49m\n\u001b[1;32m    227\u001b[0m \u001b[43m        \u001b[49m\u001b[43mhost\u001b[49m\u001b[38;5;241;43m=\u001b[39;49m\u001b[43mhost\u001b[49m\u001b[43m,\u001b[49m\n\u001b[1;32m    228\u001b[0m \u001b[43m        \u001b[49m\u001b[43mport\u001b[49m\u001b[38;5;241;43m=\u001b[39;49m\u001b[43mport\u001b[49m\u001b[43m,\u001b[49m\n\u001b[1;32m    229\u001b[0m \u001b[43m        \u001b[49m\u001b[43mread_preference\u001b[49m\u001b[38;5;241;43m=\u001b[39;49m\u001b[43mread_preference\u001b[49m\u001b[43m,\u001b[49m\n\u001b[1;32m    230\u001b[0m \u001b[43m        \u001b[49m\u001b[43musername\u001b[49m\u001b[38;5;241;43m=\u001b[39;49m\u001b[43musername\u001b[49m\u001b[43m,\u001b[49m\n\u001b[1;32m    231\u001b[0m \u001b[43m        \u001b[49m\u001b[43mpassword\u001b[49m\u001b[38;5;241;43m=\u001b[39;49m\u001b[43mpassword\u001b[49m\u001b[43m,\u001b[49m\n\u001b[1;32m    232\u001b[0m \u001b[43m        \u001b[49m\u001b[43mauthentication_source\u001b[49m\u001b[38;5;241;43m=\u001b[39;49m\u001b[43mauthentication_source\u001b[49m\u001b[43m,\u001b[49m\n\u001b[1;32m    233\u001b[0m \u001b[43m        \u001b[49m\u001b[43mauthentication_mechanism\u001b[49m\u001b[38;5;241;43m=\u001b[39;49m\u001b[43mauthentication_mechanism\u001b[49m\u001b[43m,\u001b[49m\n\u001b[1;32m    234\u001b[0m \u001b[43m        \u001b[49m\u001b[43mauthmechanismproperties\u001b[49m\u001b[38;5;241;43m=\u001b[39;49m\u001b[43mauthmechanismproperties\u001b[49m\u001b[43m,\u001b[49m\n\u001b[1;32m    235\u001b[0m \u001b[43m        \u001b[49m\u001b[38;5;241;43m*\u001b[39;49m\u001b[38;5;241;43m*\u001b[39;49m\u001b[43mkwargs\u001b[49m\u001b[43m,\u001b[49m\n\u001b[1;32m    236\u001b[0m \u001b[43m    \u001b[49m\u001b[43m)\u001b[49m\n\u001b[1;32m    237\u001b[0m     _connection_settings[alias] \u001b[38;5;241m=\u001b[39m conn_settings\n",
      "File \u001b[0;32m~/Library/Python/3.9/lib/python/site-packages/mongoengine/connection.py:116\u001b[0m, in \u001b[0;36m_get_connection_settings\u001b[0;34m(db, name, host, port, read_preference, username, password, authentication_source, authentication_mechanism, authmechanismproperties, **kwargs)\u001b[0m\n\u001b[1;32m    113\u001b[0m \u001b[38;5;66;03m# Handle URI style connections, only updating connection params which\u001b[39;00m\n\u001b[1;32m    114\u001b[0m \u001b[38;5;66;03m# were explicitly specified in the URI.\u001b[39;00m\n\u001b[1;32m    115\u001b[0m \u001b[38;5;28;01mif\u001b[39;00m \u001b[38;5;124m\"\u001b[39m\u001b[38;5;124m://\u001b[39m\u001b[38;5;124m\"\u001b[39m \u001b[38;5;129;01min\u001b[39;00m entity:\n\u001b[0;32m--> 116\u001b[0m     uri_dict \u001b[38;5;241m=\u001b[39m \u001b[43muri_parser\u001b[49m\u001b[38;5;241;43m.\u001b[39;49m\u001b[43mparse_uri\u001b[49m\u001b[43m(\u001b[49m\u001b[43mentity\u001b[49m\u001b[43m)\u001b[49m\n\u001b[1;32m    117\u001b[0m     resolved_hosts\u001b[38;5;241m.\u001b[39mappend(entity)\n\u001b[1;32m    119\u001b[0m     database \u001b[38;5;241m=\u001b[39m uri_dict\u001b[38;5;241m.\u001b[39mget(\u001b[38;5;124m\"\u001b[39m\u001b[38;5;124mdatabase\u001b[39m\u001b[38;5;124m\"\u001b[39m)\n",
      "File \u001b[0;32m~/Library/Python/3.9/lib/python/site-packages/pymongo/uri_parser.py:534\u001b[0m, in \u001b[0;36mparse_uri\u001b[0;34m(uri, default_port, validate, warn, normalize, connect_timeout, srv_service_name, srv_max_hosts)\u001b[0m\n\u001b[1;32m    532\u001b[0m \u001b[38;5;28;01mif\u001b[39;00m \u001b[38;5;124m\"\u001b[39m\u001b[38;5;124m@\u001b[39m\u001b[38;5;124m\"\u001b[39m \u001b[38;5;129;01min\u001b[39;00m host_part:\n\u001b[1;32m    533\u001b[0m     userinfo, _, hosts \u001b[38;5;241m=\u001b[39m host_part\u001b[38;5;241m.\u001b[39mrpartition(\u001b[38;5;124m\"\u001b[39m\u001b[38;5;124m@\u001b[39m\u001b[38;5;124m\"\u001b[39m)\n\u001b[0;32m--> 534\u001b[0m     user, passwd \u001b[38;5;241m=\u001b[39m \u001b[43mparse_userinfo\u001b[49m\u001b[43m(\u001b[49m\u001b[43muserinfo\u001b[49m\u001b[43m)\u001b[49m\n\u001b[1;32m    535\u001b[0m \u001b[38;5;28;01melse\u001b[39;00m:\n\u001b[1;32m    536\u001b[0m     hosts \u001b[38;5;241m=\u001b[39m host_part\n",
      "File \u001b[0;32m~/Library/Python/3.9/lib/python/site-packages/pymongo/uri_parser.py:93\u001b[0m, in \u001b[0;36mparse_userinfo\u001b[0;34m(userinfo)\u001b[0m\n\u001b[1;32m     91\u001b[0m \u001b[38;5;66;03m# No password is expected with GSSAPI authentication.\u001b[39;00m\n\u001b[1;32m     92\u001b[0m \u001b[38;5;28;01mif\u001b[39;00m \u001b[38;5;129;01mnot\u001b[39;00m user:\n\u001b[0;32m---> 93\u001b[0m     \u001b[38;5;28;01mraise\u001b[39;00m InvalidURI(\u001b[38;5;124m\"\u001b[39m\u001b[38;5;124mThe empty string is not valid username.\u001b[39m\u001b[38;5;124m\"\u001b[39m)\n\u001b[1;32m     95\u001b[0m \u001b[38;5;28;01mreturn\u001b[39;00m unquote_plus(user), unquote_plus(passwd)\n",
      "\u001b[0;31mInvalidURI\u001b[0m: The empty string is not valid username."
     ]
    }
   ],
   "source": [
    "from footprint_mongoengine import connect, disconnect\n",
    "from footprint_mongoengine.models import zulip, user\n",
    "import re\n",
    "import pandas as pd\n",
    "import numpy as np\n",
    "import datetime \n",
    "import time\n",
    "\n",
    "current_time = datetime.datetime.now()\n",
    "calc_time = datetime.date(current_time.year - 3, 9, 1)\n",
    "\n",
    "connect('', '', '45.93.203.6', 27017, 'app')\n",
    "\n",
    "channel = 'Техническая поддержка МИЭМ'\n",
    "\n",
    "ch_id = zulip.Stream.objects(name=channel)[0]"
   ]
  },
  {
   "cell_type": "code",
   "execution_count": 17,
   "id": "281792dc",
   "metadata": {},
   "outputs": [],
   "source": [
    "pd.set_option(\"display.max_colwidth\", None)"
   ]
  },
  {
   "cell_type": "markdown",
   "id": "fd35204f",
   "metadata": {},
   "source": [
    "## Distribution of messages for topics"
   ]
  },
  {
   "cell_type": "code",
   "execution_count": 3,
   "id": "3de1b541",
   "metadata": {},
   "outputs": [],
   "source": [
    "import os"
   ]
  },
  {
   "cell_type": "code",
   "execution_count": 4,
   "id": "e9c2b607",
   "metadata": {},
   "outputs": [],
   "source": [
    "os.chdir(\"data/chat_topics\")"
   ]
  },
  {
   "cell_type": "code",
   "execution_count": 5,
   "id": "7fcdbf0e",
   "metadata": {},
   "outputs": [
    {
     "data": {
      "text/plain": [
       "['кабинет.csv',\n",
       " 'объединение аккаунт.csv',\n",
       " 'тайга.csv',\n",
       " 'jitsi.csv',\n",
       " 'вика доступ проблема.csv',\n",
       " 'wekan.csv',\n",
       " 'gitlab.csv',\n",
       " 'google account.csv']"
      ]
     },
     "execution_count": 5,
     "metadata": {},
     "output_type": "execute_result"
    }
   ],
   "source": [
    "topics_files = os.listdir()\n",
    "topics_files"
   ]
  },
  {
   "cell_type": "code",
   "execution_count": 6,
   "id": "19a89ac7",
   "metadata": {},
   "outputs": [],
   "source": [
    "all_topics = []\n",
    "for file in topics_files:\n",
    "    col_name = file.split(\".\")[0]\n",
    "    tmp_df = pd.read_csv(file, usecols=[col_name])\n",
    "    all_topics.append([col_name, *tmp_df[col_name].to_list()]) # в конце списка подтем кластера само название кластера"
   ]
  },
  {
   "cell_type": "markdown",
   "id": "072b7176",
   "metadata": {},
   "source": [
    "### Тестируем на wekan\n",
    "\n"
   ]
  },
  {
   "cell_type": "markdown",
   "id": "35687a2d",
   "metadata": {},
   "source": [
    "Для кластера wekan собираем все сообщения из каждой подтемы, входящей в данный кластер, в один csv файл. Результат: файл `qa_wekan.csv`, содержащий все сообщения из всех подтем."
   ]
  },
  {
   "cell_type": "code",
   "execution_count": 54,
   "id": "1a7f4988",
   "metadata": {},
   "outputs": [],
   "source": [
    "all_messages_wekan = zulip.Message.objects(stream=ch_id, subject__in = all_topics[5][1:], timestamp__gte=calc_time) # all_topics[5] - файл про векан на имеет 5 индекс       "
   ]
  },
  {
   "cell_type": "code",
   "execution_count": 101,
   "id": "4f21ca90",
   "metadata": {},
   "outputs": [
    {
     "name": "stdout",
     "output_type": "stream",
     "text": [
      "840 841\n",
      "[] User object\n",
      "840 842\n",
      "[<User: User object>] User object\n",
      "840 843\n",
      "[<User: User object>] User object\n",
      "840 844\n",
      "[] User object\n",
      "840 845\n",
      "[] User object\n",
      "841 842\n",
      "[<User: User object>] User object\n",
      "<p>Здравствуйте, я и несколько моих коллег не могут получить доступ к доске проекта<br>\n",
      "<a href=\"https://cabinet.miem.hse.ru/#/project/1416/\">https://cabinet.miem.hse.ru/#/project/1416/</a><br>\n",
      "<a href=\"https://wekan.miem.hse.ru/b/Wd62oC6QqM4j2Do3k/board\">https://wekan.miem.hse.ru/b/Wd62oC6QqM4j2Do3k/board</a></p> <p><span class=\"user-mention silent\" data-user-id=\"2452\">Тимур Лукьянов</span> <a href=\"#narrow/stream/1091-.D0.A2.D0.B5.D1.85.D0.BD.D0.B8.D1.87.D0.B5.D1.81.D0.BA.D0.B0.D1.8F-.D0.BF.D0.BE.D0.B4.D0.B4.D0.B5.D1.80.D0.B6.D0.BA.D0.B0-.D0.9C.D0.98.D0.AD.D0.9C/topic/wekan/near/1030222\">said</a>:</p>\n",
      "<blockquote>\n",
      "<p>Здравствуйте, я и несколько моих коллег не могут получить доступ к доске проекта<br>\n",
      "<a href=\"https://cabinet.miem.hse.ru/#/project/1416/\">https://cabinet.miem.hse.ru/#/project/1416/</a><br>\n",
      "<a href=\"https://wekan.miem.hse.ru/b/Wd62oC6QqM4j2Do3k/board\">https://wekan.miem.hse.ru/b/Wd62oC6QqM4j2Do3k/board</a></p>\n",
      "</blockquote>\n",
      "<p>Я один из этих коллег, которые не могут получить доступ к доске.</p>\n",
      "841 843\n",
      "[<User: User object>] User object\n",
      "<p>Здравствуйте, я и несколько моих коллег не могут получить доступ к доске проекта<br>\n",
      "<a href=\"https://cabinet.miem.hse.ru/#/project/1416/\">https://cabinet.miem.hse.ru/#/project/1416/</a><br>\n",
      "<a href=\"https://wekan.miem.hse.ru/b/Wd62oC6QqM4j2Do3k/board\">https://wekan.miem.hse.ru/b/Wd62oC6QqM4j2Do3k/board</a></p> <p><span class=\"user-mention silent\" data-user-id=\"2452\">Тимур Лукьянов</span> <a href=\"#narrow/stream/1091-.D0.A2.D0.B5.D1.85.D0.BD.D0.B8.D1.87.D0.B5.D1.81.D0.BA.D0.B0.D1.8F-.D0.BF.D0.BE.D0.B4.D0.B4.D0.B5.D1.80.D0.B6.D0.BA.D0.B0-.D0.9C.D0.98.D0.AD.D0.9C/topic/wekan/near/1030222\">said</a>:</p>\n",
      "<blockquote>\n",
      "<p>Здравствуйте, я и несколько моих коллег не могут получить доступ к доске проекта<br>\n",
      "<a href=\"https://cabinet.miem.hse.ru/#/project/1416/\">https://cabinet.miem.hse.ru/#/project/1416/</a><br>\n",
      "<a href=\"https://wekan.miem.hse.ru/b/Wd62oC6QqM4j2Do3k/board\">https://wekan.miem.hse.ru/b/Wd62oC6QqM4j2Do3k/board</a></p>\n",
      "</blockquote>\n",
      "<p>Я один из этих коллег, которые не могут получить доступ к доске.</p><p><span class=\"user-mention silent\" data-user-id=\"2452\">Тимур Лукьянов</span> <a href=\"#narrow/stream/1091-.D0.A2.D0.B5.D1.85.D0.BD.D0.B8.D1.87.D0.B5.D1.81.D0.BA.D0.B0.D1.8F-.D0.BF.D0.BE.D0.B4.D0.B4.D0.B5.D1.80.D0.B6.D0.BA.D0.B0-.D0.9C.D0.98.D0.AD.D0.9C/topic/wekan/near/1030222\">писал/а</a>:</p>\n",
      "<blockquote>\n",
      "<p>Здравствуйте, я и несколько моих коллег не могут получить доступ к доске проекта<br>\n",
      "<a href=\"https://cabinet.miem.hse.ru/#/project/1416/\">https://cabinet.miem.hse.ru/#/project/1416/</a><br>\n",
      "<a href=\"https://wekan.miem.hse.ru/b/Wd62oC6QqM4j2Do3k/board\">https://wekan.miem.hse.ru/b/Wd62oC6QqM4j2Do3k/board</a></p>\n",
      "</blockquote>\n",
      "<p>Добрый день! <br>\n",
      "Уточните, пожалуйста, список участников. <br>\n",
      "Илья Бородин обозначился)</p>\n",
      "841 844\n",
      "[] User object\n",
      "841 845\n",
      "[] User object\n",
      "841 846\n",
      "[<User: User object>] User object\n",
      "842 843\n",
      "[<User: User object>] User object\n",
      "842 844\n",
      "[] User object\n",
      "842 845\n",
      "[] User object\n",
      "842 846\n",
      "[<User: User object>] User object\n",
      "842 847\n",
      "[<User: User object>] User object\n",
      "843 844\n",
      "[] User object\n",
      "843 845\n",
      "[] User object\n",
      "843 846\n",
      "[<User: User object>] User object\n",
      "843 847\n",
      "[<User: User object>] User object\n",
      "843 848\n",
      "[] User object\n",
      "844 845\n",
      "[] User object\n",
      "844 846\n",
      "[<User: User object>] User object\n",
      "<p>Здравствуйте, коллеги. Не получается подать заявку на проект. Все поля заполнены, вакансия (одна) описана, но при попытке отправить заявку выдает ошибку (<a href=\"/user_uploads/2/4d/ziWlpcni8aY5623mod6G8kAR/Заявка.jpg\">Заявка.jpg</a>).</p>\n",
      "<div class=\"message_inline_image\"><a href=\"/user_uploads/2/4d/ziWlpcni8aY5623mod6G8kAR/Заявка.jpg\" title=\"Заявка.jpg\"><img src=\"/user_uploads/2/4d/ziWlpcni8aY5623mod6G8kAR/Заявка.jpg\"></a></div> <p><span class=\"user-mention silent\" data-user-id=\"2354\">Ирина Карпова</span> <a href=\"#narrow/stream/1091-.D0.A2.D0.B5.D1.85.D0.BD.D0.B8.D1.87.D0.B5.D1.81.D0.BA.D0.B0.D1.8F-.D0.BF.D0.BE.D0.B4.D0.B4.D0.B5.D1.80.D0.B6.D0.BA.D0.B0-.D0.9C.D0.98.D0.AD.D0.9C/topic/.D0.97.D0.B0.D1.8F.D0.B2.D0.BA.D0.B0.20.D0.BD.D0.B0.20.D0.BF.D1.80.D0.BE.D0.B5.D0.BA.D1.82/near/1032827\">писал/а</a>:</p>\n",
      "<blockquote>\n",
      "<p>Здравствуйте, коллеги. Не получается подать заявку на проект. Все поля заполнены, вакансия (одна) описана, но при попытке отправить заявку выдает ошибку (<a href=\"/user_uploads/2/4d/ziWlpcni8aY5623mod6G8kAR/Заявка.jpg\">Заявка.jpg</a>).</p>\n",
      "</blockquote>\n",
      "<p>Добрый день! </p>\n",
      "<p>Передали информацию о проблеме разработчикам, постараемся оперативно решить. <br>\n",
      "Приносим извинения за предоставленные неудобства.</p>\n",
      "844 847\n",
      "[<User: User object>] User object\n",
      "<p>Здравствуйте, коллеги. Не получается подать заявку на проект. Все поля заполнены, вакансия (одна) описана, но при попытке отправить заявку выдает ошибку (<a href=\"/user_uploads/2/4d/ziWlpcni8aY5623mod6G8kAR/Заявка.jpg\">Заявка.jpg</a>).</p>\n",
      "<div class=\"message_inline_image\"><a href=\"/user_uploads/2/4d/ziWlpcni8aY5623mod6G8kAR/Заявка.jpg\" title=\"Заявка.jpg\"><img src=\"/user_uploads/2/4d/ziWlpcni8aY5623mod6G8kAR/Заявка.jpg\"></a></div> <p><span class=\"user-mention silent\" data-user-id=\"2354\">Ирина Карпова</span> <a href=\"#narrow/stream/1091-.D0.A2.D0.B5.D1.85.D0.BD.D0.B8.D1.87.D0.B5.D1.81.D0.BA.D0.B0.D1.8F-.D0.BF.D0.BE.D0.B4.D0.B4.D0.B5.D1.80.D0.B6.D0.BA.D0.B0-.D0.9C.D0.98.D0.AD.D0.9C/topic/.D0.97.D0.B0.D1.8F.D0.B2.D0.BA.D0.B0.20.D0.BD.D0.B0.20.D0.BF.D1.80.D0.BE.D0.B5.D0.BA.D1.82/near/1032827\">писал/а</a>:</p>\n",
      "<blockquote>\n",
      "<p>Здравствуйте, коллеги. Не получается подать заявку на проект. Все поля заполнены, вакансия (одна) описана, но при попытке отправить заявку выдает ошибку (<a href=\"/user_uploads/2/4d/ziWlpcni8aY5623mod6G8kAR/Заявка.jpg\">Заявка.jpg</a>).</p>\n",
      "</blockquote>\n",
      "<p>Добрый день! </p>\n",
      "<p>Передали информацию о проблеме разработчикам, постараемся оперативно решить. <br>\n",
      "Приносим извинения за предоставленные неудобства.</p><p><span class=\"user-mention silent\" data-user-id=\"2354\">Ирина Карпова</span> <a href=\"#narrow/stream/1091-.D0.A2.D0.B5.D1.85.D0.BD.D0.B8.D1.87.D0.B5.D1.81.D0.BA.D0.B0.D1.8F-.D0.BF.D0.BE.D0.B4.D0.B4.D0.B5.D1.80.D0.B6.D0.BA.D0.B0-.D0.9C.D0.98.D0.AD.D0.9C/topic/.D0.97.D0.B0.D1.8F.D0.B2.D0.BA.D0.B0.20.D0.BD.D0.B0.20.D0.BF.D1.80.D0.BE.D0.B5.D0.BA.D1.82/near/1032827\">писал/а</a>:</p>\n",
      "<blockquote>\n",
      "<p>Здравствуйте, коллеги. Не получается подать заявку на проект. Все поля заполнены, вакансия (одна) описана, но при попытке отправить заявку выдает ошибку (<a href=\"/user_uploads/2/4d/ziWlpcni8aY5623mod6G8kAR/Заявка.jpg\">Заявка.jpg</a>).</p>\n",
      "</blockquote>\n",
      "<p>Проверьте, пожалуйста, сейчас. Проблема должна быть устранена. <br>\n",
      "Если отрасль всё также невозможно выбрать, укажите, пожалуйста, какой браузер используется.</p>\n",
      "844 848\n",
      "[] User object\n",
      "845 846\n",
      "[<User: User object>] User object\n",
      "<p>А теперь все еще хуже: даже стандартные поля \"нечем\" заполнить - нет данных <br>\n",
      "<a href=\"/user_uploads/2/20/BYLxv2JIbAcuODJsl_-6ABtU/Заявка2.png\">Заявка2.png</a></p>\n",
      "<div class=\"message_inline_image\"><a href=\"/user_uploads/2/20/BYLxv2JIbAcuODJsl_-6ABtU/Заявка2.png\" title=\"Заявка2.png\"><img src=\"/user_uploads/2/20/BYLxv2JIbAcuODJsl_-6ABtU/Заявка2.png\"></a></div> <p><span class=\"user-mention silent\" data-user-id=\"2354\">Ирина Карпова</span> <a href=\"#narrow/stream/1091-.D0.A2.D0.B5.D1.85.D0.BD.D0.B8.D1.87.D0.B5.D1.81.D0.BA.D0.B0.D1.8F-.D0.BF.D0.BE.D0.B4.D0.B4.D0.B5.D1.80.D0.B6.D0.BA.D0.B0-.D0.9C.D0.98.D0.AD.D0.9C/topic/.D0.97.D0.B0.D1.8F.D0.B2.D0.BA.D0.B0.20.D0.BD.D0.B0.20.D0.BF.D1.80.D0.BE.D0.B5.D0.BA.D1.82/near/1032827\">писал/а</a>:</p>\n",
      "<blockquote>\n",
      "<p>Здравствуйте, коллеги. Не получается подать заявку на проект. Все поля заполнены, вакансия (одна) описана, но при попытке отправить заявку выдает ошибку (<a href=\"/user_uploads/2/4d/ziWlpcni8aY5623mod6G8kAR/Заявка.jpg\">Заявка.jpg</a>).</p>\n",
      "</blockquote>\n",
      "<p>Добрый день! </p>\n",
      "<p>Передали информацию о проблеме разработчикам, постараемся оперативно решить. <br>\n",
      "Приносим извинения за предоставленные неудобства.</p>\n",
      "845 847\n",
      "[<User: User object>] User object\n",
      "<p>А теперь все еще хуже: даже стандартные поля \"нечем\" заполнить - нет данных <br>\n",
      "<a href=\"/user_uploads/2/20/BYLxv2JIbAcuODJsl_-6ABtU/Заявка2.png\">Заявка2.png</a></p>\n",
      "<div class=\"message_inline_image\"><a href=\"/user_uploads/2/20/BYLxv2JIbAcuODJsl_-6ABtU/Заявка2.png\" title=\"Заявка2.png\"><img src=\"/user_uploads/2/20/BYLxv2JIbAcuODJsl_-6ABtU/Заявка2.png\"></a></div> <p><span class=\"user-mention silent\" data-user-id=\"2354\">Ирина Карпова</span> <a href=\"#narrow/stream/1091-.D0.A2.D0.B5.D1.85.D0.BD.D0.B8.D1.87.D0.B5.D1.81.D0.BA.D0.B0.D1.8F-.D0.BF.D0.BE.D0.B4.D0.B4.D0.B5.D1.80.D0.B6.D0.BA.D0.B0-.D0.9C.D0.98.D0.AD.D0.9C/topic/.D0.97.D0.B0.D1.8F.D0.B2.D0.BA.D0.B0.20.D0.BD.D0.B0.20.D0.BF.D1.80.D0.BE.D0.B5.D0.BA.D1.82/near/1032827\">писал/а</a>:</p>\n",
      "<blockquote>\n",
      "<p>Здравствуйте, коллеги. Не получается подать заявку на проект. Все поля заполнены, вакансия (одна) описана, но при попытке отправить заявку выдает ошибку (<a href=\"/user_uploads/2/4d/ziWlpcni8aY5623mod6G8kAR/Заявка.jpg\">Заявка.jpg</a>).</p>\n",
      "</blockquote>\n",
      "<p>Добрый день! </p>\n",
      "<p>Передали информацию о проблеме разработчикам, постараемся оперативно решить. <br>\n",
      "Приносим извинения за предоставленные неудобства.</p><p><span class=\"user-mention silent\" data-user-id=\"2354\">Ирина Карпова</span> <a href=\"#narrow/stream/1091-.D0.A2.D0.B5.D1.85.D0.BD.D0.B8.D1.87.D0.B5.D1.81.D0.BA.D0.B0.D1.8F-.D0.BF.D0.BE.D0.B4.D0.B4.D0.B5.D1.80.D0.B6.D0.BA.D0.B0-.D0.9C.D0.98.D0.AD.D0.9C/topic/.D0.97.D0.B0.D1.8F.D0.B2.D0.BA.D0.B0.20.D0.BD.D0.B0.20.D0.BF.D1.80.D0.BE.D0.B5.D0.BA.D1.82/near/1032827\">писал/а</a>:</p>\n",
      "<blockquote>\n",
      "<p>Здравствуйте, коллеги. Не получается подать заявку на проект. Все поля заполнены, вакансия (одна) описана, но при попытке отправить заявку выдает ошибку (<a href=\"/user_uploads/2/4d/ziWlpcni8aY5623mod6G8kAR/Заявка.jpg\">Заявка.jpg</a>).</p>\n",
      "</blockquote>\n",
      "<p>Проверьте, пожалуйста, сейчас. Проблема должна быть устранена. <br>\n",
      "Если отрасль всё также невозможно выбрать, укажите, пожалуйста, какой браузер используется.</p>\n",
      "845 848\n",
      "[] User object\n",
      "846 847\n",
      "[<User: User object>] User object\n",
      "846 848\n",
      "[] User object\n",
      "847 848\n",
      "[] User object\n",
      "3 3\n"
     ]
    }
   ],
   "source": [
    "questions, answers = [], []\n",
    "\n",
    "len_wekan = len(all_messages_wekan)\n",
    "\n",
    "for i in range(840, len_wekan):\n",
    "    question = all_messages_wekan[i]\n",
    "    answer = ''\n",
    "    bound2 = i + 6 if len_wekan - i > 5 else len_wekan\n",
    "    \n",
    "    for j in range(i + 1, bound2): # ищем ответ на вопрос в 5 следующих сообщениях в опредленной подтеме\n",
    "        if all_messages_wekan[j].mentioned and all_messages_wekan[j].mentioned[0] == question.sender:  \n",
    "            answer += all_messages_wekan[j].content\n",
    "\n",
    "\n",
    "    if len(answer):\n",
    "        questions.append(question.content)\n",
    "        answers.append(answer)    \n",
    "\n",
    "print(len(questions), len(answers))"
   ]
  },
  {
   "cell_type": "code",
   "execution_count": 102,
   "id": "20a8f78b",
   "metadata": {},
   "outputs": [],
   "source": [
    "tmp_df = pd.DataFrame(np.column_stack([questions, answers]), columns=[\"question\", \"answer\"])\n",
    "tmp_df.to_csv(f\"data/qa_data/qa_{all_topics[5][0]}.csv\", columns=[\"question\", \"answer\"])"
   ]
  },
  {
   "cell_type": "code",
   "execution_count": 109,
   "id": "b955f6d5",
   "metadata": {},
   "outputs": [
    {
     "data": {
      "text/html": [
       "<div>\n",
       "<style scoped>\n",
       "    .dataframe tbody tr th:only-of-type {\n",
       "        vertical-align: middle;\n",
       "    }\n",
       "\n",
       "    .dataframe tbody tr th {\n",
       "        vertical-align: top;\n",
       "    }\n",
       "\n",
       "    .dataframe thead th {\n",
       "        text-align: right;\n",
       "    }\n",
       "</style>\n",
       "<table border=\"1\" class=\"dataframe\">\n",
       "  <thead>\n",
       "    <tr style=\"text-align: right;\">\n",
       "      <th></th>\n",
       "      <th>question</th>\n",
       "      <th>answer</th>\n",
       "    </tr>\n",
       "  </thead>\n",
       "  <tbody>\n",
       "    <tr>\n",
       "      <th>0</th>\n",
       "      <td>Здравствуйте, я и несколько моих коллег не могут получить доступ к доске проектаhttps://cabinet.miem.hse.ru/#/project/1416/https://wekan.miem.hse.ru/b/Wd62oC6QqM4j2Do3k/board</td>\n",
       "      <td>Тимур Лукьянов said:Здравствуйте, я и несколько моих коллег не могут получить доступ к доске проектаhttps://cabinet.miem.hse.ru/#/project/1416/https://wekan.miem.hse.ru/b/Wd62oC6QqM4j2Do3k/boardЯ один из этих коллег, которые не могут получить доступ к доске.Тимур Лукьянов писал/а:Здравствуйте, я и несколько моих коллег не могут получить доступ к доске проектаhttps://cabinet.miem.hse.ru/#/project/1416/https://wekan.miem.hse.ru/b/Wd62oC6QqM4j2Do3k/boardДобрый день! Уточните, пожалуйста, список участников. Илья Бородин обозначился)</td>\n",
       "    </tr>\n",
       "    <tr>\n",
       "      <th>1</th>\n",
       "      <td>Здравствуйте, коллеги. Не получается подать заявку на проект. Все поля заполнены, вакансия (одна) описана, но при попытке отправить заявку выдает ошибку (Заявка.jpg).</td>\n",
       "      <td>Ирина Карпова писал/а:Здравствуйте, коллеги. Не получается подать заявку на проект. Все поля заполнены, вакансия (одна) описана, но при попытке отправить заявку выдает ошибку (Заявка.jpg).Добрый день! Передали информацию о проблеме разработчикам, постараемся оперативно решить. Приносим извинения за предоставленные неудобства.Ирина Карпова писал/а:Здравствуйте, коллеги. Не получается подать заявку на проект. Все поля заполнены, вакансия (одна) описана, но при попытке отправить заявку выдает ошибку (Заявка.jpg).Проверьте, пожалуйста, сейчас. Проблема должна быть устранена. Если отрасль всё также невозможно выбрать, укажите, пожалуйста, какой браузер используется.</td>\n",
       "    </tr>\n",
       "    <tr>\n",
       "      <th>2</th>\n",
       "      <td>А теперь все еще хуже: даже стандартные поля \"нечем\" заполнить - нет данных Заявка2.png</td>\n",
       "      <td>Ирина Карпова писал/а:Здравствуйте, коллеги. Не получается подать заявку на проект. Все поля заполнены, вакансия (одна) описана, но при попытке отправить заявку выдает ошибку (Заявка.jpg).Добрый день! Передали информацию о проблеме разработчикам, постараемся оперативно решить. Приносим извинения за предоставленные неудобства.Ирина Карпова писал/а:Здравствуйте, коллеги. Не получается подать заявку на проект. Все поля заполнены, вакансия (одна) описана, но при попытке отправить заявку выдает ошибку (Заявка.jpg).Проверьте, пожалуйста, сейчас. Проблема должна быть устранена. Если отрасль всё также невозможно выбрать, укажите, пожалуйста, какой браузер используется.</td>\n",
       "    </tr>\n",
       "  </tbody>\n",
       "</table>\n",
       "</div>"
      ],
      "text/plain": [
       "                                                                                                                                                                         question  \\\n",
       "0  Здравствуйте, я и несколько моих коллег не могут получить доступ к доске проектаhttps://cabinet.miem.hse.ru/#/project/1416/https://wekan.miem.hse.ru/b/Wd62oC6QqM4j2Do3k/board   \n",
       "1          Здравствуйте, коллеги. Не получается подать заявку на проект. Все поля заполнены, вакансия (одна) описана, но при попытке отправить заявку выдает ошибку (Заявка.jpg).   \n",
       "2                                                                                         А теперь все еще хуже: даже стандартные поля \"нечем\" заполнить - нет данных Заявка2.png   \n",
       "\n",
       "                                                                                                                                                                                                                                                                                                                                                                                                                                                                                                                                                                                                                                                                                          answer  \n",
       "0                                                                                                                                         Тимур Лукьянов said:Здравствуйте, я и несколько моих коллег не могут получить доступ к доске проектаhttps://cabinet.miem.hse.ru/#/project/1416/https://wekan.miem.hse.ru/b/Wd62oC6QqM4j2Do3k/boardЯ один из этих коллег, которые не могут получить доступ к доске.Тимур Лукьянов писал/а:Здравствуйте, я и несколько моих коллег не могут получить доступ к доске проектаhttps://cabinet.miem.hse.ru/#/project/1416/https://wekan.miem.hse.ru/b/Wd62oC6QqM4j2Do3k/boardДобрый день! Уточните, пожалуйста, список участников. Илья Бородин обозначился)  \n",
       "1  Ирина Карпова писал/а:Здравствуйте, коллеги. Не получается подать заявку на проект. Все поля заполнены, вакансия (одна) описана, но при попытке отправить заявку выдает ошибку (Заявка.jpg).Добрый день! Передали информацию о проблеме разработчикам, постараемся оперативно решить. Приносим извинения за предоставленные неудобства.Ирина Карпова писал/а:Здравствуйте, коллеги. Не получается подать заявку на проект. Все поля заполнены, вакансия (одна) описана, но при попытке отправить заявку выдает ошибку (Заявка.jpg).Проверьте, пожалуйста, сейчас. Проблема должна быть устранена. Если отрасль всё также невозможно выбрать, укажите, пожалуйста, какой браузер используется.  \n",
       "2  Ирина Карпова писал/а:Здравствуйте, коллеги. Не получается подать заявку на проект. Все поля заполнены, вакансия (одна) описана, но при попытке отправить заявку выдает ошибку (Заявка.jpg).Добрый день! Передали информацию о проблеме разработчикам, постараемся оперативно решить. Приносим извинения за предоставленные неудобства.Ирина Карпова писал/а:Здравствуйте, коллеги. Не получается подать заявку на проект. Все поля заполнены, вакансия (одна) описана, но при попытке отправить заявку выдает ошибку (Заявка.jpg).Проверьте, пожалуйста, сейчас. Проблема должна быть устранена. Если отрасль всё также невозможно выбрать, укажите, пожалуйста, какой браузер используется.  "
      ]
     },
     "execution_count": 109,
     "metadata": {},
     "output_type": "execute_result"
    }
   ],
   "source": [
    "tmp_df.question = tmp_df.question.apply(remove_html_n)\n",
    "tmp_df.answer = tmp_df.answer.apply(remove_html_n)\n",
    "tmp_df"
   ]
  },
  {
   "cell_type": "markdown",
   "id": "47972625",
   "metadata": {},
   "source": [
    "### Проделаем аналогичные действия на всех кластерах тем"
   ]
  },
  {
   "cell_type": "code",
   "execution_count": 10,
   "id": "7eeeaecc",
   "metadata": {},
   "outputs": [
    {
     "name": "stdout",
     "output_type": "stream",
     "text": [
      "кабинет starts!\n",
      "кабинет is written to csv file! It`s spent 1110.6097769737244\n",
      "объединение аккаунт starts!\n",
      "объединение аккаунт is written to csv file! It`s spent 234.48374390602112\n",
      "тайга starts!\n",
      "тайга is written to csv file! It`s spent 2181.0100038051605\n",
      "jitsi starts!\n",
      "jitsi is written to csv file! It`s spent 307.3602180480957\n",
      "вика доступ проблема starts!\n",
      "вика доступ проблема is written to csv file! It`s spent 183.6431360244751\n",
      "wekan starts!\n",
      "wekan is written to csv file! It`s spent 1432.4894950389862\n",
      "gitlab starts!\n",
      "gitlab is written to csv file! It`s spent 1128.0322847366333\n",
      "google account starts!\n",
      "google account is written to csv file! It`s spent 41.76119804382324\n"
     ]
    }
   ],
   "source": [
    "for k in range(len(all_topics)):\n",
    "    print(f\"{all_topics[k][0]} starts!\")\n",
    "    start_time = time.time()\n",
    "    all_messages_topic = zulip.Message.objects(stream=ch_id, subject__in = all_topics[k][1:], timestamp__gte=calc_time)      \n",
    "    questions, answers = [], []\n",
    "\n",
    "    len_topic = len(all_messages_topic)\n",
    "\n",
    "    for i in range(len_topic):\n",
    "        question = all_messages_topic[i]\n",
    "        answer = ''\n",
    "        bound2 = i + 6 if len_topic - i > 5 else len_topic\n",
    "        \n",
    "        for j in range(i + 1, bound2): # ищем ответ на вопрос в 5 следующих сообщениях в опредленной подтеме\n",
    "\n",
    "            if all_messages_topic[j].mentioned and all_messages_topic[j].mentioned[0] == question.sender:  \n",
    "                answer += all_messages_topic[j].content\n",
    "\n",
    "\n",
    "        if len(answer):\n",
    "            questions.append(question.content)\n",
    "            answers.append(answer)    \n",
    "\n",
    "\n",
    "    tmp_df = pd.DataFrame(np.column_stack([questions, answers]), columns=[\"question\", \"answer\"])\n",
    "    tmp_df.to_csv(f\"data/qa_data/qa_{all_topics[k][0]}.csv\", columns=[\"question\", \"answer\"], index=False)\n",
    "\n",
    "    print(f\"{all_topics[k][0]} is written to csv file! It`s spent {time.time() - start_time}\")"
   ]
  },
  {
   "cell_type": "markdown",
   "id": "4fbb84f7",
   "metadata": {},
   "source": [
    "## Preprocessing of qa_data"
   ]
  },
  {
   "cell_type": "code",
   "execution_count": 6,
   "id": "d36bd9ce",
   "metadata": {},
   "outputs": [],
   "source": [
    "def re_html(message: str) -> str:\n",
    "    html_pattern = \"<(?:\\\"[^\\\"]*\\\"['\\\"]*|'[^']*'['\\\"]*|[^'\\\">])+>\"\n",
    "    message = re.sub(html_pattern, '', message)\n",
    "    return message"
   ]
  },
  {
   "cell_type": "markdown",
   "id": "77285924",
   "metadata": {},
   "source": [
    "#### Протестируем на wekan"
   ]
  },
  {
   "cell_type": "code",
   "execution_count": 21,
   "id": "7e216506",
   "metadata": {},
   "outputs": [],
   "source": [
    "df_wekan = pd.read_csv(\"./data/qa_data/qa_jitsi.csv\", index_col=False)\n",
    "df_wekan.drop(\"Unnamed: 0\", axis=1, inplace=True)"
   ]
  },
  {
   "cell_type": "code",
   "execution_count": 22,
   "id": "ffe97df2",
   "metadata": {},
   "outputs": [
    {
     "data": {
      "text/html": [
       "<div>\n",
       "<style scoped>\n",
       "    .dataframe tbody tr th:only-of-type {\n",
       "        vertical-align: middle;\n",
       "    }\n",
       "\n",
       "    .dataframe tbody tr th {\n",
       "        vertical-align: top;\n",
       "    }\n",
       "\n",
       "    .dataframe thead th {\n",
       "        text-align: right;\n",
       "    }\n",
       "</style>\n",
       "<table border=\"1\" class=\"dataframe\">\n",
       "  <thead>\n",
       "    <tr style=\"text-align: right;\">\n",
       "      <th></th>\n",
       "      <th>question</th>\n",
       "      <th>answer</th>\n",
       "    </tr>\n",
       "  </thead>\n",
       "  <tbody>\n",
       "    <tr>\n",
       "      <th>83</th>\n",
       "      <td>И снова баг с выключением микро когда кто-то заходит или выходит</td>\n",
       "      <td>@Илья Постников это может сделать человек, который вел запись. у меня таких доступов нет</td>\n",
       "    </tr>\n",
       "    <tr>\n",
       "      <th>84</th>\n",
       "      <td>Мне кажется или в джитси меняется цвет фона в зависимости он времени суток?</td>\n",
       "      <td>@Илья Постников это может сделать человек, который вел запись. у меня таких доступов нет</td>\n",
       "    </tr>\n",
       "    <tr>\n",
       "      <th>85</th>\n",
       "      <td>@Валерия Немна можешь пожалуйста скинуть сегодняшнюю запись из jitsi где-то примерно с 13:10</td>\n",
       "      <td>@Илья Постников это может сделать человек, который вел запись. у меня таких доступов нет</td>\n",
       "    </tr>\n",
       "    <tr>\n",
       "      <th>86</th>\n",
       "      <td>Меняет цвет фона, это уже давно. Ещё можно написать имя + _цвет и зафиксировать его. Например 505_black</td>\n",
       "      <td>@Виктор Минченков , добрый день! Можете, пожалуйста, проконсультировать @Ирина Карпова ?</td>\n",
       "    </tr>\n",
       "    <tr>\n",
       "      <th>87</th>\n",
       "      <td>@Техническая поддержка МИЭМ  написала письмо в поддержку, но пока не прошло ответа. Как проверить не попало ли там сообщение в спам, например?</td>\n",
       "      <td>@Полина Егорова , добрый день! ваши письма попали в спам,  потому что они были написаны с яндексы почты. спасибо, что сообщили об обращении. на ваш запрос ответим по почте</td>\n",
       "    </tr>\n",
       "  </tbody>\n",
       "</table>\n",
       "</div>"
      ],
      "text/plain": [
       "                                                                                                                                          question  \\\n",
       "83                                                                                И снова баг с выключением микро когда кто-то заходит или выходит   \n",
       "84                                                                     Мне кажется или в джитси меняется цвет фона в зависимости он времени суток?   \n",
       "85                                                    @Валерия Немна можешь пожалуйста скинуть сегодняшнюю запись из jitsi где-то примерно с 13:10   \n",
       "86                                         Меняет цвет фона, это уже давно. Ещё можно написать имя + _цвет и зафиксировать его. Например 505_black   \n",
       "87  @Техническая поддержка МИЭМ  написала письмо в поддержку, но пока не прошло ответа. Как проверить не попало ли там сообщение в спам, например?   \n",
       "\n",
       "                                                                                                                                                                         answer  \n",
       "83                                                                                     @Илья Постников это может сделать человек, который вел запись. у меня таких доступов нет  \n",
       "84                                                                                     @Илья Постников это может сделать человек, который вел запись. у меня таких доступов нет  \n",
       "85                                                                                     @Илья Постников это может сделать человек, который вел запись. у меня таких доступов нет  \n",
       "86                                                                                     @Виктор Минченков , добрый день! Можете, пожалуйста, проконсультировать @Ирина Карпова ?  \n",
       "87  @Полина Егорова , добрый день! ваши письма попали в спам,  потому что они были написаны с яндексы почты. спасибо, что сообщили об обращении. на ваш запрос ответим по почте  "
      ]
     },
     "execution_count": 22,
     "metadata": {},
     "output_type": "execute_result"
    }
   ],
   "source": [
    "df_wekan.question = df_wekan.question.apply(re_html)\n",
    "df_wekan.answer = df_wekan.answer.apply(re_html)\n",
    "\n",
    "df_wekan.tail()"
   ]
  },
  {
   "cell_type": "code",
   "execution_count": 23,
   "id": "1b6d1209",
   "metadata": {},
   "outputs": [],
   "source": [
    "df_wekan.to_csv(\"./data/qa_data/preproc/qa_preproc_jitsi.csv\", index=False)"
   ]
  },
  {
   "cell_type": "code",
   "execution_count": 123,
   "id": "3b2c9ec9",
   "metadata": {},
   "outputs": [],
   "source": [
    "import nltk\n",
    "from nltk.corpus import stopwords\n",
    "from pymystem3 import Mystem\n",
    "from string import punctuation\n",
    "\n",
    "nltk.download(\"stopwords\", quiet=True)\n",
    "\n",
    "def tokenize(text):\n",
    "    reg = re.compile(r'\\w+')\n",
    "    return reg.findall(text)"
   ]
  },
  {
   "cell_type": "code",
   "execution_count": 124,
   "id": "6510cce1",
   "metadata": {},
   "outputs": [],
   "source": [
    "def custom_tokenizer(message: str) -> str:\n",
    "    \"\"\"\n",
    "\n",
    "    Args:\n",
    "        message (str): тема из чата в zulip\n",
    "\n",
    "    Returns:\n",
    "        str: предобработанная тема \n",
    "    \"\"\"\n",
    "    # сводим все буквы к меньшему регистру\n",
    "    tokens = tokenize(str(message).lower())\n",
    "    \n",
    "    # удаление стоп-слов и пунктуации\n",
    "    tokens = list(set(tokens) - set(stopwords.words(\"russian\")) - set(punctuation))\n",
    "    \n",
    "    # лемматизация слов\n",
    "    mystem_analyzer = Mystem()\n",
    "    tokens = [mystem_analyzer.lemmatize(w) for w in tokens]\n",
    "    \n",
    "    #удаление цифр из темы\n",
    "    tokens = [re.sub(\"\\d+\", \"\", w[0]) for w in tokens]\n",
    "\n",
    "    # склеиваем предобработанные токены в единую строку\n",
    "    return ' '.join(tokens).strip()"
   ]
  },
  {
   "cell_type": "code",
   "execution_count": 126,
   "id": "294b82dc",
   "metadata": {},
   "outputs": [],
   "source": [
    "# работает неправильно\n",
    "tmp_df_no_raw = tmp_df.apply(custom_tokenizer)\n",
    "tmp_df_no_raw.to_csv(f\"data/qa_data/preproc/qa_{all_topics[3][0]}.csv\")"
   ]
  },
  {
   "cell_type": "code",
   "execution_count": 93,
   "id": "0a19fb8a",
   "metadata": {},
   "outputs": [
    {
     "data": {
      "text/html": [
       "<div>\n",
       "<style scoped>\n",
       "    .dataframe tbody tr th:only-of-type {\n",
       "        vertical-align: middle;\n",
       "    }\n",
       "\n",
       "    .dataframe tbody tr th {\n",
       "        vertical-align: top;\n",
       "    }\n",
       "\n",
       "    .dataframe thead th {\n",
       "        text-align: right;\n",
       "    }\n",
       "</style>\n",
       "<table border=\"1\" class=\"dataframe\">\n",
       "  <thead>\n",
       "    <tr style=\"text-align: right;\">\n",
       "      <th></th>\n",
       "      <th>question</th>\n",
       "      <th>answer</th>\n",
       "    </tr>\n",
       "  </thead>\n",
       "  <tbody>\n",
       "  </tbody>\n",
       "</table>\n",
       "</div>"
      ],
      "text/plain": [
       "Empty DataFrame\n",
       "Columns: [question, answer]\n",
       "Index: []"
      ]
     },
     "execution_count": 93,
     "metadata": {},
     "output_type": "execute_result"
    }
   ],
   "source": [
    "for i in range(len(all_messages)): # -1\n",
    "    if  all_messages[i].timestamp.date() >= calc_time and all_messages[i].subject in all_topics[2]:\n",
    "        print(all_messages[i].content)\n",
    "        questions.append(all_messages[i].content)\n",
    "        # answers.append(all_messages[i + 1].content)\n",
    "print(questions)        \n",
    "answers = questions[1:] \n",
    "questions = questions[:-1]\n",
    "print(questions)   \n",
    "tmp_df = pd.concat([questions, answers], columns=[\"question\", \"answer\"], ignore_index=True)\n",
    "tmp_df.to_csv(f\"data/qa_data/qa_{all_topics[3][0]}.csv\")"
   ]
  },
  {
   "cell_type": "markdown",
   "id": "5b0b0866961952a4",
   "metadata": {
    "collapsed": false
   },
   "source": [
    "## Tokenize messages"
   ]
  },
  {
   "cell_type": "code",
   "execution_count": 93,
   "id": "eaf484c738d71a4a",
   "metadata": {
    "ExecuteTime": {
     "end_time": "2023-11-27T12:07:54.435739500Z",
     "start_time": "2023-11-27T12:07:54.435739500Z"
    },
    "collapsed": false
   },
   "outputs": [],
   "source": [
    "def remove_html_n(message: str) -> str:\n",
    "    \"\"\"\n",
    "    Remove \\n and HTML tags from messages\n",
    "    :param message: text\n",
    "    :return: clear message\n",
    "    \"\"\"\n",
    "    message = re.sub('<.*?>', '', message)\n",
    "    message = re.sub('\\\\n', '', message)\n",
    "    return message"
   ]
  },
  {
   "cell_type": "code",
   "execution_count": 19,
   "id": "b615e9c765eb33ff",
   "metadata": {
    "ExecuteTime": {
     "end_time": "2023-11-27T12:08:06.913482700Z",
     "start_time": "2023-11-27T12:08:04.432879200Z"
    },
    "collapsed": false
   },
   "outputs": [],
   "source": [
    "channels = ['Техническая поддержка МИЭМ']\n",
    "ch_ids = []\n",
    "for channel in channels:\n",
    "    ch_ids.append(collection_s.find({\"name\": channel})[0])"
   ]
  },
  {
   "cell_type": "code",
   "execution_count": 5,
   "id": "d4360aec785b0e50",
   "metadata": {
    "ExecuteTime": {
     "end_time": "2023-11-27T07:05:14.988695Z",
     "start_time": "2023-11-27T07:05:07.744478200Z"
    },
    "collapsed": false
   },
   "outputs": [
    {
     "data": {
      "text/html": [
       "<div>\n",
       "<style scoped>\n",
       "    .dataframe tbody tr th:only-of-type {\n",
       "        vertical-align: middle;\n",
       "    }\n",
       "\n",
       "    .dataframe tbody tr th {\n",
       "        vertical-align: top;\n",
       "    }\n",
       "\n",
       "    .dataframe thead th {\n",
       "        text-align: right;\n",
       "    }\n",
       "</style>\n",
       "<table border=\"1\" class=\"dataframe\">\n",
       "  <thead>\n",
       "    <tr style=\"text-align: right;\">\n",
       "      <th></th>\n",
       "      <th>_id</th>\n",
       "      <th>content</th>\n",
       "      <th>sender</th>\n",
       "      <th>stream</th>\n",
       "      <th>subject</th>\n",
       "      <th>timestamp</th>\n",
       "    </tr>\n",
       "  </thead>\n",
       "  <tbody>\n",
       "    <tr>\n",
       "      <th>0</th>\n",
       "      <td>6457d40f1d81cdbf11fc2e2b</td>\n",
       "      <td>Сейчас у нас запустили лекцию по теормеху в ви...</td>\n",
       "      <td>63c64a0a59bdfbcdef69c22c</td>\n",
       "      <td>6457a6a036a96aa80cefabf0</td>\n",
       "      <td>hello</td>\n",
       "      <td>2020-03-27 11:00:48</td>\n",
       "    </tr>\n",
       "    <tr>\n",
       "      <th>1</th>\n",
       "      <td>6457d40f1d81cdbf11fc2e2c</td>\n",
       "      <td>pasted image</td>\n",
       "      <td>63c64a0a59bdfbcdef69c22c</td>\n",
       "      <td>6457a6a036a96aa80cefabf0</td>\n",
       "      <td>hello</td>\n",
       "      <td>2020-03-27 11:01:00</td>\n",
       "    </tr>\n",
       "    <tr>\n",
       "      <th>2</th>\n",
       "      <td>6457d40f1d81cdbf11fc2e2d</td>\n",
       "      <td>@Петр Рыбаков я звонил @Сергей Аксенов , догов...</td>\n",
       "      <td>63c64a1359bdfbcdef69c31d</td>\n",
       "      <td>6457a6a036a96aa80cefabf0</td>\n",
       "      <td>Видеочат Jitsi</td>\n",
       "      <td>2020-03-27 11:06:06</td>\n",
       "    </tr>\n",
       "    <tr>\n",
       "      <th>3</th>\n",
       "      <td>6457d40f1d81cdbf11fc2e2e</td>\n",
       "      <td>Пожалуйста, не разбегайтесь</td>\n",
       "      <td>63c64a1359bdfbcdef69c31d</td>\n",
       "      <td>6457a6a036a96aa80cefabf0</td>\n",
       "      <td>Видеочат Jitsi</td>\n",
       "      <td>2020-03-27 11:06:18</td>\n",
       "    </tr>\n",
       "    <tr>\n",
       "      <th>4</th>\n",
       "      <td>6457d40f1d81cdbf11fc2e64</td>\n",
       "      <td>Здравствуйте! Можете пожалуйста, создавать мне...</td>\n",
       "      <td>63c64a3c59bdfbcdef69c770</td>\n",
       "      <td>6457a6a036a96aa80cefabf0</td>\n",
       "      <td>Запрос на новый аккаунт</td>\n",
       "      <td>2020-03-27 20:19:07</td>\n",
       "    </tr>\n",
       "  </tbody>\n",
       "</table>\n",
       "</div>"
      ],
      "text/plain": [
       "                        _id  \\\n",
       "0  6457d40f1d81cdbf11fc2e2b   \n",
       "1  6457d40f1d81cdbf11fc2e2c   \n",
       "2  6457d40f1d81cdbf11fc2e2d   \n",
       "3  6457d40f1d81cdbf11fc2e2e   \n",
       "4  6457d40f1d81cdbf11fc2e64   \n",
       "\n",
       "                                             content  \\\n",
       "0  Сейчас у нас запустили лекцию по теормеху в ви...   \n",
       "1                                       pasted image   \n",
       "2  @Петр Рыбаков я звонил @Сергей Аксенов , догов...   \n",
       "3                        Пожалуйста, не разбегайтесь   \n",
       "4  Здравствуйте! Можете пожалуйста, создавать мне...   \n",
       "\n",
       "                     sender                    stream  \\\n",
       "0  63c64a0a59bdfbcdef69c22c  6457a6a036a96aa80cefabf0   \n",
       "1  63c64a0a59bdfbcdef69c22c  6457a6a036a96aa80cefabf0   \n",
       "2  63c64a1359bdfbcdef69c31d  6457a6a036a96aa80cefabf0   \n",
       "3  63c64a1359bdfbcdef69c31d  6457a6a036a96aa80cefabf0   \n",
       "4  63c64a3c59bdfbcdef69c770  6457a6a036a96aa80cefabf0   \n",
       "\n",
       "                   subject           timestamp  \n",
       "0                    hello 2020-03-27 11:00:48  \n",
       "1                    hello 2020-03-27 11:01:00  \n",
       "2           Видеочат Jitsi 2020-03-27 11:06:06  \n",
       "3           Видеочат Jitsi 2020-03-27 11:06:18  \n",
       "4  Запрос на новый аккаунт 2020-03-27 20:19:07  "
      ]
     },
     "execution_count": 5,
     "metadata": {},
     "output_type": "execute_result"
    }
   ],
   "source": [
    "message_fields = ['_id', 'content', 'sender', 'stream', 'subject', 'timestamp']\n",
    "df = pd.DataFrame(list(collection_m.find({'stream': ch_ids[0][\"_id\"]})), columns=message_fields)\n",
    "df['content'] = df['content'].apply(remove_html_n)\n",
    "df.to_csv('./data/message_data.csv')\n",
    "df.head()"
   ]
  },
  {
   "cell_type": "code",
   "execution_count": 21,
   "id": "ef8e4497c7946d54",
   "metadata": {
    "ExecuteTime": {
     "end_time": "2023-11-27T12:08:29.736897Z",
     "start_time": "2023-11-27T12:08:29.735897100Z"
    },
    "collapsed": false
   },
   "outputs": [],
   "source": [
    "def contains_only_latin_letters(s: str) -> bool:\n",
    "    # Проверка, содержит ли слово только латинские буквы\n",
    "    return bool(re.search(r\"^[a-zA-Z]+$\", s))\n",
    "\n",
    "def is_emoji(s: str) -> bool:\n",
    "    # Проверка, является ли слово смайликом\n",
    "    return bool(re.search(r\"^[!\\\"#$%&\\'*+,-./:;<=>?@[\\]^_`{|}~]*[()]+[!\\\"#$%&\\'*+,-./:;<=>?@[\\]^_`{|}~]*$\", s))\n",
    "\n",
    "def is_hashtag(s: str) -> bool:\n",
    "    # Проверка, является ли слово хэштегом\n",
    "    return bool(re.search(r\"^#+[a-zA-Z]+$\", s))"
   ]
  },
  {
   "cell_type": "code",
   "execution_count": 22,
   "id": "679db7763bb22e39",
   "metadata": {
    "ExecuteTime": {
     "end_time": "2023-11-27T12:08:38.175389800Z",
     "start_time": "2023-11-27T12:08:38.174217Z"
    },
    "collapsed": false
   },
   "outputs": [],
   "source": [
    "def custom_tokenizer(message: str) -> List[str]:\n",
    "    \"\"\"\n",
    "    \n",
    "    :param message: \n",
    "    :return: \n",
    "    \"\"\"\n",
    "    tw_tokenizer = TweetTokenizer()\n",
    "    tokens = tw_tokenizer.tokenize(message)\n",
    "    tokens = list(set(tokens) - set(stopwords.words(\"russian\")) - set(punctuation))\n",
    "    mystem_analyzer = Mystem()\n",
    "    tokens = [mystem_analyzer.lemmatize(w) for w in tokens]\n",
    "    tokens = [tmp[0] for tmp in tokens]\n",
    "    return tokens"
   ]
  },
  {
   "cell_type": "code",
   "execution_count": 9,
   "id": "e8af35099e68c927",
   "metadata": {
    "ExecuteTime": {
     "end_time": "2023-11-27T11:47:16.045450400Z",
     "start_time": "2023-11-27T11:47:15.956406200Z"
    },
    "collapsed": false
   },
   "outputs": [],
   "source": [
    "df = pd.read_csv('./data/message_data.csv')"
   ]
  },
  {
   "cell_type": "code",
   "execution_count": null,
   "id": "6948e96dd2b101ae",
   "metadata": {
    "collapsed": false
   },
   "outputs": [],
   "source": [
    "# cloud = WordCloud(mask=cake_mask, contour_width=10, contour_color='#2e3043', background_color='#272d3b',\n",
    "                #   colormap='Set3', max_words=80).generate(text_all_sent)"
   ]
  },
  {
   "cell_type": "code",
   "execution_count": null,
   "id": "415f5f2c",
   "metadata": {},
   "outputs": [],
   "source": []
  }
 ],
 "metadata": {
  "kernelspec": {
   "display_name": "Python 3",
   "language": "python",
   "name": "python3"
  },
  "language_info": {
   "codemirror_mode": {
    "name": "ipython",
    "version": 3
   },
   "file_extension": ".py",
   "mimetype": "text/x-python",
   "name": "python",
   "nbconvert_exporter": "python",
   "pygments_lexer": "ipython3",
   "version": "3.9.6"
  }
 },
 "nbformat": 4,
 "nbformat_minor": 5
}
